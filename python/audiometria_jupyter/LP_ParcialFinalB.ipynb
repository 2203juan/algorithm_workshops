{
 "cells": [
  {
   "cell_type": "markdown",
   "metadata": {},
   "source": [
    "# Parcial final"
   ]
  },
  {
   "cell_type": "markdown",
   "metadata": {},
   "source": [
    "** Modo de entrega: **\n",
    "\n",
    "- El parcial final debe entregarse como un archivo de Python con extensión .py.\n",
    "Puede utilizar el entorno de desarrollo (IDE) que prefiera (ej. Jupyter Notebook, Spyder, Pycharm, etc).\n",
    "Si decide utlizar el Jupyter Notebook, recuerde exportar el archivo con extensión .py. \n",
    "Esto puede hacerlo desde el menú en la opción file/archivo, download as/descargar como, Python (.py).\n",
    "\n",
    "- Una vez resuelto el parcial, por favor suba el archivo correspondiente al link de entrega del aula virtual."
   ]
  },
  {
   "cell_type": "markdown",
   "metadata": {},
   "source": [
    "**Datos para el parcial:**"
   ]
  },
  {
   "cell_type": "markdown",
   "metadata": {},
   "source": [
    "En el archivo audiometria2.py encuentra los resultados de la audiometría de dos pacientes.\n",
    "Trabaje con los datos del paciente que le fue asignado al iniciar el parcial.\n",
    "Adicionalmente, en este Jupyter Notebook encuentra ya dichos resutados asignados en una variable de tipo arreglo (array) llamada datos_audiometría.\n",
    "Para resolver el parcial, utilice los datos ya organizados en la variable datos_audiometria. "
   ]
  },
  {
   "cell_type": "code",
   "execution_count": 1,
   "metadata": {},
   "outputs": [],
   "source": [
    "#Estos son los datos\n",
    "import numpy as np\n",
    "\n",
    "datos_audiometria = audiometria = np.array([('Persona','Banda(Hz)', 'Canal', 'Nivel(dB)'), \n",
    "(1, 500, 'I', 57), \n",
    "(1, 1000, 'I', 60),\n",
    "(1, 2000, 'I', 62), \n",
    "(1, 4000, 'I', 55), \n",
    "(1, 6000, 'I', 24), \n",
    "(1, 8000, 'I', 22),\n",
    "(1, 10000, 'I', 50), \n",
    "(1, 500, 'D', 62), \n",
    "(1, 1000, 'D', 70), \n",
    "(1, 2000, 'D', 65), \n",
    "(1, 4000, 'D', 20),\n",
    "(1, 6000, 'D', 24),\n",
    "(1, 8000, 'D', 19),\n",
    "(1, 10000, 'D', 48), \n",
    "(2, 500, 'I', 23),\n",
    "(2, 1000, 'I', 15),\n",
    "(2, 2000, 'I', 18),\n",
    "(2, 4000, 'I', 38),\n",
    "(2, 6000, 'I', 36),\n",
    "(2, 8000, 'I', 37),\n",
    "(2, 10000, 'I', 50),\n",
    "(2, 500, 'D', 20),\n",
    "(2, 1000, 'D', 24),\n",
    "(2, 2000, 'D', 29),\n",
    "(2, 4000, 'D', 28),\n",
    "(2, 6000, 'D', 32),\n",
    "(2, 8000, 'D', 37),\n",
    "(2, 10000, 'D', 54),\n",
    "(3, 500, 'I', 14),\n",
    "(3, 1000, 'I', 18),\n",
    "(3, 2000, 'I', 20),\n",
    "(3, 4000, 'I', 58),\n",
    "(3, 6000, 'I', 63),\n",
    "(3, 8000, 'I', 43),\n",
    "(3, 10000, 'I', 44),\n",
    "(3, 500, 'D', 10),\n",
    "(3, 1000, 'D', 15),\n",
    "(3, 2000, 'D', 17),\n",
    "(3, 4000, 'D', 60),\n",
    "(3, 6000, 'D', 64),\n",
    "(3, 8000, 'D', 28),\n",
    "(3, 10000, 'D', 30)])"
   ]
  },
  {
   "cell_type": "markdown",
   "metadata": {},
   "source": [
    "Los niveles en dB obtenidos en cada banda de frecuencia indican lo siguiente:\n",
    "\n",
    "-Normal: 0-25 dB, es decir, no hay daño auditivo.\n",
    "\n",
    "-Daño leve: 26-40 dB, es decir, hay un daño auditivo leve.\n",
    "\n",
    "-Daño moderado: 41-55 dB, es decir, hay un daño auditivo moderado.\n",
    "\n",
    "-Daño severo: 56-70 dB, es decir, hay un daño auditivo severo."
   ]
  },
  {
   "cell_type": "markdown",
   "metadata": {},
   "source": [
    "## Instrucciones:"
   ]
  },
  {
   "cell_type": "markdown",
   "metadata": {},
   "source": [
    "** Aclaración importante sobre la calificación: **\n",
    "\n",
    "- Para obtener el punto completo en los ejercicios planteados, es importante resolverlos por medio de for/bucles y condicionales. "
   ]
  },
  {
   "cell_type": "markdown",
   "metadata": {},
   "source": [
    "### Primera parte:\n",
    "\n",
    "### Función: **leer_resultados_audiometria**"
   ]
  },
  {
   "cell_type": "markdown",
   "metadata": {},
   "source": [
    "**Primera parte: (valor 2.0)**\n",
    "\n",
    "Cree una función llamada **leer_resultados_audiometria** que permita leer los datos del paciente correspondiente.\n",
    "\n",
    "La entrada de esta función son los datos almacenados en la variable ** datos_audiometria** y el número del paciente que le correspondió (1, 2 o 3). \n",
    "La salida de la función deben ser dos listas con los niveles obtenidos por el paciente que le fue asignado. La primera lista debe corresponder a los valores obtenidos en el oído izquierdo, y la segunda lista a los valores obtenidos en el oído derecho. Cada lista debe contener siete valores que corresponden a cada una de las bandas evaluadas.\n",
    "\n",
    "* Ejemplo de uso de la función:\n",
    "\n",
    "leer_resultados_audiometria(datos_audiometria, 1)\n",
    "\n",
    "** El número del paciente puede ingresarse como un entero 1, o como un string '1', cualquiera de las dos opciones está bien."
   ]
  },
  {
   "cell_type": "code",
   "execution_count": 2,
   "metadata": {},
   "outputs": [
    {
     "name": "stdout",
     "output_type": "stream",
     "text": [
      "(['14', '18', '20', '58', '63', '43', '44'], ['10', '15', '17', '60', '64', '28', '30'])\n"
     ]
    }
   ],
   "source": [
    "def leer_resultados_audiometria(datos_audiometria, paciente):\n",
    "    oido_izquierdo = list()\n",
    "    oido_derecho = list()\n",
    "    n = len(datos_audiometria)\n",
    "    \n",
    "    for i in range(1,n):\n",
    "        if datos_audiometria[i][2] == \"I\" and int(datos_audiometria[i][0]) == paciente:\n",
    "            oido_izquierdo.append(datos_audiometria[i][3])\n",
    "        if datos_audiometria[i][2] == \"D\" and int(datos_audiometria[i][0]) == paciente:\n",
    "            oido_derecho.append(datos_audiometria[i][3])\n",
    "    \n",
    "    return (oido_izquierdo, oido_derecho)\n",
    "\n",
    "print(leer_resultados_audiometria(datos_audiometria, 3))"
   ]
  },
  {
   "cell_type": "markdown",
   "metadata": {},
   "source": [
    "**segunda parte: (valor 1.0)**\n",
    "\n",
    "Modifique la función **leer_resultados_audiometria** del tal manera que la función genere dos listas adicionales en la salida. \n",
    "Las listas adicionales deben indicar en cuál de las cuatro categorías presentadas (Normal, daño leve, daño moderado, daño severo) se clasifica el nivel (dB) obtenido. Nuevamente, una de las listas debe corresponder al oído izquierdo, y la otra al oído derecho.\n",
    "\n",
    "*Ejemplo de una de las listas:* \n",
    "\n",
    "['N','N','DL','DL','DM','N', 'N']"
   ]
  },
  {
   "cell_type": "code",
   "execution_count": 3,
   "metadata": {},
   "outputs": [
    {
     "name": "stdout",
     "output_type": "stream",
     "text": [
      "(['14', '18', '20', '58', '63', '43', '44'], ['10', '15', '17', '60', '64', '28', '30'], ['N', 'N', 'N', 'DS', 'DS', 'DM', 'DM'], ['N', 'N', 'N', 'DS', 'DS', 'DL', 'DL'])\n"
     ]
    }
   ],
   "source": [
    "\"\"\"\n",
    "Los niveles en dB obtenidos en cada banda de frecuencia indican lo siguiente:\n",
    "\n",
    "-Normal: 0-25 dB, es decir, no hay daño auditivo.\n",
    "\n",
    "-Daño leve: 26-40 dB, es decir, hay un daño auditivo leve.\n",
    "\n",
    "-Daño moderado: 41-55 dB, es decir, hay un daño auditivo moderado.\n",
    "\n",
    "-Daño severo: 56-70 dB, es decir, hay un daño auditivo severo.\n",
    "\n",
    "\"\"\"\n",
    "\n",
    "def leer_resultados_audiometria(datos_audiometria, paciente):\n",
    "    oido_izquierdo = list()\n",
    "    oido_derecho = list()\n",
    "    nivel_oido_izquierdo = list()\n",
    "    nivel_oido_derecho = list()\n",
    "    n = len(datos_audiometria)\n",
    "    \n",
    "    for i in range(1,n):\n",
    "        if datos_audiometria[i][2] == \"I\" and int(datos_audiometria[i][0]) == paciente:\n",
    "            oido_izquierdo.append(datos_audiometria[i][3])\n",
    "            \n",
    "            nivel = int(datos_audiometria[i][3])\n",
    "            if 0 < nivel <= 25:\n",
    "                nivel_oido_izquierdo.append(\"N\")\n",
    "            \n",
    "            elif 25 < nivel <= 40:\n",
    "                nivel_oido_izquierdo.append(\"DL\")\n",
    "            \n",
    "            elif 40 < nivel <= 55:\n",
    "                nivel_oido_izquierdo.append(\"DM\")\n",
    "            elif 55 < nivel <= 70:\n",
    "                nivel_oido_izquierdo.append(\"DS\")\n",
    "                \n",
    "                \n",
    "            \n",
    "        if datos_audiometria[i][2] == \"D\" and int(datos_audiometria[i][0]) == paciente:\n",
    "            oido_derecho.append(datos_audiometria[i][3])\n",
    "            \n",
    "            nivel = int(datos_audiometria[i][3])\n",
    "            if 0 < nivel <= 25:\n",
    "                nivel_oido_derecho.append(\"N\")\n",
    "            \n",
    "            elif 25 < nivel <= 40:\n",
    "                nivel_oido_derecho.append(\"DL\")\n",
    "            \n",
    "            elif 40 < nivel <= 55:\n",
    "                nivel_oido_derecho.append(\"DM\")\n",
    "            elif 55 < nivel <= 70:\n",
    "                nivel_oido_derecho.append(\"DS\")\n",
    "    \n",
    "    return (oido_izquierdo, oido_derecho, nivel_oido_izquierdo, nivel_oido_derecho)\n",
    "\n",
    "print(leer_resultados_audiometria(datos_audiometria, 3))"
   ]
  },
  {
   "cell_type": "markdown",
   "metadata": {},
   "source": [
    "### Tercera parte: \n",
    "\n",
    "### Función: plot_resultados_audiometria"
   ]
  },
  {
   "cell_type": "markdown",
   "metadata": {},
   "source": [
    "Cree una función llamada **plot_resultados_audiometria** con la cuál se puedan visualizar los datos obtenidos en las funciones anteriores. En el eje Y deben mostrarse los niveles medidos, y en el eje X deben mostrarse las bandas (Hz) en las cuales se hizo la medición. (valor 1.0)"
   ]
  },
  {
   "cell_type": "markdown",
   "metadata": {},
   "source": [
    "La función **plot_resultados_audiometria** debe tener cuatro argumentos de entrada, estos son:\n",
    "\n",
    "- Niveles oído izquierdo\n",
    "- Niveles oído derecho\n",
    "- Clasificación de niveles oído izquierdo\n",
    "- Clasificación de niveles oído derecho\n",
    "\n",
    "*Ejemplo de uso:*\n",
    "\n",
    "plot_resultados_audiometria(listaA, listaB, listaC,listaD)"
   ]
  },
  {
   "cell_type": "code",
   "execution_count": 4,
   "metadata": {},
   "outputs": [
    {
     "data": {
      "image/png": "[encoded data removed]",
      "text/plain": [
       "<Figure size 432x288 with 1 Axes>"
      ]
     },
     "metadata": {
      "needs_background": "light"
     },
     "output_type": "display_data"
    }
   ],
   "source": [
    "import matplotlib.pyplot as plt\n",
    "def plot_resultados_audiometria(oido_izquierdo, oido_derecho, cla_oido_izq, cla_oido_der):\n",
    "    bandas = [500,1000,2000,4000,6000,8000,10000]\n",
    "    #--------------------- oido izquierdo\n",
    "    normales_izq = list()\n",
    "    bandas_norm_izq = list()\n",
    "    no_normales_izq = list()\n",
    "    bandas_no_norm_izq = list()\n",
    "    \n",
    "    for i in range(len(oido_izquierdo)):\n",
    "        if cla_oido_izq[i] == \"N\":\n",
    "            normales_izq.append(oido_izquierdo[i])\n",
    "            bandas_norm_izq.append(bandas[i])\n",
    "        else:\n",
    "            no_normales_izq.append(oido_izquierdo[i])\n",
    "            bandas_no_norm_izq.append(bandas[i])\n",
    "    #normales_izq.sort()\n",
    "    #no_normales_izq.sort()\n",
    "    \n",
    "    izq_norm = {}\n",
    "    izq_no_norm = {}\n",
    "    \n",
    "    for i in range(len(normales_izq)):\n",
    "        izq_norm[normales_izq[i]] = bandas_norm_izq[i]\n",
    "        \n",
    "    for i in range(len(no_normales_izq)):\n",
    "        izq_no_norm[no_normales_izq[i]] = bandas_no_norm_izq[i]\n",
    "        \n",
    "    x = list()\n",
    "    y = list()\n",
    "    for key in sorted(izq_norm):\n",
    "        x.append(izq_norm[key])\n",
    "        y.append(key)\n",
    "    \n",
    "    xp = list()\n",
    "    yp = list()\n",
    "    \n",
    "    for key in sorted(izq_no_norm):\n",
    "        xp.append(izq_no_norm[key])\n",
    "        yp.append(key)\n",
    "    #------------------------- oido derecho\n",
    "    normales_der = list()\n",
    "    bandas_norm_der = list()\n",
    "    no_normales_der = list()\n",
    "    bandas_no_norm_der = list()\n",
    "    \n",
    "    for i in range(len(oido_derecho)):\n",
    "        if cla_oido_der[i] == \"N\":\n",
    "            normales_der.append(oido_derecho[i])\n",
    "            bandas_norm_der.append(bandas[i])\n",
    "        else:\n",
    "            no_normales_der.append(oido_derecho[i])\n",
    "            bandas_no_norm_der.append(bandas[i])\n",
    "    \n",
    "    der_norm = {}\n",
    "    der_no_norm = {}\n",
    "    \n",
    "    for i in range(len(normales_der)):\n",
    "        der_norm[normales_der[i]] = bandas_norm_der[i]\n",
    "        \n",
    "    for i in range(len(no_normales_der)):\n",
    "        der_no_norm[no_normales_der[i]] = bandas_no_norm_der[i]\n",
    "        \n",
    "    xd = list()\n",
    "    yd = list()\n",
    "    for key in sorted(der_norm):\n",
    "        xd.append(der_norm[key])\n",
    "        yd.append(key)\n",
    "    \n",
    "    xpd = list()\n",
    "    ypd = list()\n",
    "    \n",
    "    for key in sorted(der_no_norm):\n",
    "        xpd.append(der_no_norm[key])\n",
    "        ypd.append(key)\n",
    "            \n",
    "            \n",
    "    fig=plt.figure()\n",
    "    ax = fig.add_axes([0,0,1,1])\n",
    "    # oido izquiero rojo normales- azul otro\n",
    "    ax.scatter(x, y , color='r')\n",
    "    ax.scatter(xp, yp, color='b')\n",
    "    # oido derecho verde normales - amarillo otros\n",
    "    ax.scatter(xd, yd , color='g')\n",
    "    ax.scatter(xpd, ypd, color='y')\n",
    "    ax.set_xlabel('Banda(Hz)')\n",
    "    ax.set_ylabel('Nivel medido')\n",
    "    ax.set_title('Oido Izquierdo y Derecho paciente 3')\n",
    "    plt.show()\n",
    "\n",
    "listas = leer_resultados_audiometria(datos_audiometria, 3)\n",
    "plot_resultados_audiometria(listas[0], listas[1], listas[2], listas[3])"
   ]
  },
  {
   "cell_type": "markdown",
   "metadata": {},
   "source": [
    "En el plot creado, los valores que corresponden a la categoría niveles normales deben tener un color, y los niveles que correspondan a las otras categorías deben tener otro color. (valor 1.0)"
   ]
  }
 ],
 "metadata": {
  "kernelspec": {
   "display_name": "Python 3",
   "language": "python",
   "name": "python3"
  },
  "language_info": {
   "codemirror_mode": {
    "name": "ipython",
    "version": 3
   },
   "file_extension": ".py",
   "mimetype": "text/x-python",
   "name": "python",
   "nbconvert_exporter": "python",
   "pygments_lexer": "ipython3",
   "version": "3.7.6"
  }
 },
 "nbformat": 4,
 "nbformat_minor": 2
}
